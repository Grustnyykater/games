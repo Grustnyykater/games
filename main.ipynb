{
 "cells": [
  {
   "cell_type": "code",
   "execution_count": 2,
   "id": "initial_id",
   "metadata": {
    "ExecuteTime": {
     "end_time": "2023-12-14T11:43:38.597640300Z",
     "start_time": "2023-12-14T11:43:38.572702200Z"
    }
   },
   "outputs": [
    {
     "name": "stdout",
     "output_type": "stream",
     "text": [
      "{'country': ['Germany', 'USA', 'Russia'], 'car': ['BMW', 'Ford', 'Lada'], 'year': ['1999', '2010', '1970']}\n"
     ]
    }
   ],
   "source": [
    "import csv\n",
    "import pickle\n",
    "\n",
    "\n",
    "def load_table_csv(file_path):\n",
    "    with open(file_path, \"r\") as file:\n",
    "        reader = csv.reader(file)\n",
    "        headers = next(reader)\n",
    "        table = {header: [] for header in headers}\n",
    "\n",
    "        for row in reader:\n",
    "            assert len(row) == len(headers), \"invalid format\"\n",
    "            for header, value in zip(headers, row):\n",
    "                table[header].append(value)\n",
    "\n",
    "    return table\n",
    "\n",
    "\n",
    "t = load_table_csv(\"table.csv\")\n",
    "print(t)"
   ]
  },
  {
   "cell_type": "code",
   "execution_count": 3,
   "id": "cc85eec3",
   "metadata": {},
   "outputs": [],
   "source": [
    "def save_table_csv(table, file_path):\n",
    "    with open(file_path, \"w\") as file:\n",
    "        writer = csv.writer(file)\n",
    "        writer.writerow(table.keys())\n",
    "        writer.writerows(zip(*table.values()))\n",
    "\n",
    "\n",
    "t = {'country': ['Germany', 'USA', 'Russia'], 'car': ['BMW', 'Ford', 'Lada'], 'year': ['1999', '2010', '1970']}\n",
    "save_table_csv(t, \"table1.csv\")\n"
   ]
  },
  {
   "cell_type": "code",
   "execution_count": 5,
   "id": "f1bbe400",
   "metadata": {},
   "outputs": [
    {
     "name": "stdout",
     "output_type": "stream",
     "text": [
      "b'\\x80\\x04\\x95.\\x00\\x00\\x00\\x00\\x00\\x00\\x00}\\x94(\\x8c\\x04Name\\x94]\\x94(\\x8c\\x05Sasha\\x94\\x8c\\x05Katya\\x94e\\x8c\\x03Age\\x94]\\x94(K\\x12K\\x13eu.'\n"
     ]
    }
   ],
   "source": [
    "def save_table_pickle(table, file_path):\n",
    "    with open(file_path, \"wb\") as file:\n",
    "        pickle.dump(table, file)\n",
    "\n",
    "\n",
    "table = {\"Name\": [\"Sasha\", \"Katya\"], \"Age\": [18, 19]}\n",
    "print(pickle.dumps(table))\n",
    "save_table_pickle(table, \"data.pickle\")"
   ]
  },
  {
   "cell_type": "code",
   "execution_count": 6,
   "id": "43617546",
   "metadata": {},
   "outputs": [
    {
     "name": "stdout",
     "output_type": "stream",
     "text": [
      "{'Name': ['Sasha', 'Katya'], 'Age': [18, 19]}\n"
     ]
    }
   ],
   "source": [
    "def load_table_pickle(file_path):\n",
    "    with open(file_path, \"rb\") as file:\n",
    "        table = pickle.load(file)\n",
    "\n",
    "    assert isinstance(table, dict), \"Invalid file format\"\n",
    "\n",
    "    return table\n",
    "\n",
    "\n",
    "table = load_table_pickle(\"data.pickle\")\n",
    "print(table)"
   ]
  },
  {
   "cell_type": "code",
   "execution_count": 1,
   "id": "8719a4be",
   "metadata": {
    "ExecuteTime": {
     "end_time": "2023-12-14T12:11:12.864422400Z",
     "start_time": "2023-12-14T12:11:12.794299500Z"
    }
   },
   "outputs": [],
   "source": [
    "def save_table_text(table, file_path):\n",
    "    with open(file_path, \"w\") as file:\n",
    "        for header, values in table.items():\n",
    "            file.write(f\"{header}\\n\")\n",
    "            for value in values:\n",
    "                file.write(f\"{value}\\n\")\n",
    "            file.write(\"\\n\")\n",
    "\n",
    "\n",
    "t = {'Name': ['Sasha', 'Katya'], 'Age': [18, 19]}\n",
    "save_table_text(t, \"table.txt\")\n"
   ]
  },
  {
   "cell_type": "code",
   "execution_count": null,
   "id": "d0a0c17289e34afa",
   "metadata": {
    "collapsed": false,
    "jupyter": {
     "outputs_hidden": false
    }
   },
   "outputs": [],
   "source": [
    "def get_rows_by_number(table: dict, start, stop=None, copy_table=False):\n",
    "    if stop is None:\n",
    "        stop = start + 1\n",
    "\n",
    "    if copy_table:\n",
    "        new_table = table.copy()\n",
    "    else:\n",
    "        new_table = table\n",
    "\n",
    "    return new_table[start:stop]\n",
    "\n"
   ]
  },
  {
   "cell_type": "code",
   "execution_count": null,
   "id": "33be7188bd3b15e",
   "metadata": {
    "collapsed": false,
    "jupyter": {
     "outputs_hidden": false
    }
   },
   "outputs": [],
   "source": [
    "def get_rows_by_index(table: dict, *values, copy_table=False):\n",
    "    if copy_table:\n",
    "        new_table = table.copy()\n",
    "    else:\n",
    "        new_table = table\n",
    "\n",
    "    filtered_rows = [row for row in new_table if row[0] in values]\n",
    "    return filtered_rows\n"
   ]
  },
  {
   "cell_type": "code",
   "execution_count": null,
   "id": "2d42ebc41b0396f7",
   "metadata": {
    "collapsed": false,
    "jupyter": {
     "outputs_hidden": false
    }
   },
   "outputs": [],
   "source": [
    "def get_column_types(table: dict, by_number=True):\n",
    "    column_types = {}\n",
    "    if by_number:\n",
    "        for i in range(len(table[0])):\n",
    "            values = [row[i] for row in table]\n",
    "            column_types[i] = get_type(values)\n",
    "    else:\n",
    "        for i, column_name in enumerate(table[0]):\n",
    "            values = [row[i] for row in table]\n",
    "            column_types[column_name] = get_type(values)\n",
    "    return column_types\n",
    "\n",
    "\n",
    "# Вспомогательная функция для функции get_column_types(by_number=True)\n",
    "# возвращает тип столбца, если в нем только один тип данных\n",
    "# в противном случае возвращает str\n",
    "def get_type(values):\n",
    "    types = set()\n",
    "    for value in values:\n",
    "        if isinstance(value, int):\n",
    "            types.add('int')\n",
    "        elif isinstance(value, float):\n",
    "            types.add('float')\n",
    "        elif isinstance(value, bool):\n",
    "            types.add('bool')\n",
    "        elif isinstance(value, str):\n",
    "            types.add('str')\n",
    "    if len(types) == 1:\n",
    "        return types.pop()\n",
    "    else:\n",
    "        return 'str'\n"
   ]
  },
  {
   "cell_type": "code",
   "execution_count": null,
   "id": "e0ea0067df146a8d",
   "metadata": {
    "collapsed": false,
    "jupyter": {
     "outputs_hidden": false
    }
   },
   "outputs": [],
   "source": [
    "def set_column_types(table: dict, types_dict: dict, by_number=True):\n",
    "    if by_number:\n",
    "        for column_number, column_type in types_dict.items():\n",
    "            for row in table:\n",
    "                row[column_number] = convert_value(row[column_number], column_type)\n",
    "    else:\n",
    "        for column_name, column_type in types_dict.items():\n",
    "            column_number = get_rows_by_number(column_name)\n",
    "            if column_number is not None:\n",
    "                for row in table:\n",
    "                    row[column_number] = convert_value(row[column_number], column_type)\n",
    "\n",
    "\n",
    "\n",
    "# Вспомогательная функция для set_column_types\n",
    "def convert_value(value, column_type):\n",
    "    if column_type == 'int':\n",
    "        try:\n",
    "            return int(value)\n",
    "        except ValueError:\n",
    "            return value\n",
    "    elif column_type == 'float':\n",
    "        try:\n",
    "            return float(value)\n",
    "        except ValueError:\n",
    "            return value\n",
    "    elif column_type == 'bool':\n",
    "        if value.lower() == 'true':\n",
    "            return True\n",
    "        elif value.lower() == 'false':\n",
    "            return False\n",
    "        else:\n",
    "            return value\n",
    "    else:\n",
    "        return value"
   ]
  },
  {
   "cell_type": "code",
   "execution_count": null,
   "id": "d88f241d",
   "metadata": {},
   "outputs": [],
   "source": [
    "# Вспомогательная функция\n",
    "# Возвращает номер столбца по его имени\n",
    "def get_column_num(column):\n",
    "    # Поиск номера столбца по имени\n",
    "    for i, col in enumerate(table.columns):\n",
    "        if col.name == column:\n",
    "            return i\n",
    "\n",
    "    # Если столбец не найден, возвращаем None\n",
    "    return None\n",
    "\n",
    "\n",
    "def get_values(table: dict, column=0):\n",
    "    # Проверка, является ли column числом или строкой\n",
    "    if isinstance(column, int):\n",
    "        column_num = column\n",
    "    elif isinstance(column, str):\n",
    "        column_num = get_column_num(column)\n",
    "    else:\n",
    "        return []\n",
    "\n",
    "    column_type = get_column_types(column_num)\n",
    "\n",
    "    values = []\n",
    "    for row in table:\n",
    "        value = row[column_num]\n",
    "        converted_value = convert_value(value, column_type)\n",
    "        values.append(converted_value)\n",
    "\n",
    "    return values\n",
    "\n",
    "\n",
    "def get_value(table: dict, column=0):\n",
    "    # Проверка, является ли column числом или строкой\n",
    "    if isinstance(column, int):\n",
    "        column_num = column\n",
    "    elif isinstance(column, str):\n",
    "        column_num = get_column_num(column)\n",
    "    else:\n",
    "        return None\n",
    "\n",
    "    column_type = get_column_types(column_num)\n",
    "\n",
    "    row = table[0]\n",
    "    value = row[column_num]\n",
    "    converted_value = convert_value(value, column_type)\n",
    "\n",
    "    return converted_value\n"
   ]
  }
 ],
 "metadata": {
  "kernelspec": {
   "display_name": "Python 3 (ipykernel)",
   "language": "python",
   "name": "python3"
  },
  "language_info": {
   "codemirror_mode": {
    "name": "ipython",
    "version": 3
   },
   "file_extension": ".py",
   "mimetype": "text/x-python",
   "name": "python",
   "nbconvert_exporter": "python",
   "pygments_lexer": "ipython3",
   "version": "3.11.5"
  }
 },
 "nbformat": 4,
 "nbformat_minor": 5
}
