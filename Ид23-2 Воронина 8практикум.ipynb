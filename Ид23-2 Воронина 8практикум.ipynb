{
 "cells": [
  {
   "cell_type": "code",
   "execution_count": 52,
   "id": "bd62cb3b",
   "metadata": {},
   "outputs": [
    {
     "data": {
      "text/plain": [
       "[1, 3, 3, 2, 1, 3]"
      ]
     },
     "execution_count": 52,
     "metadata": {},
     "output_type": "execute_result"
    }
   ],
   "source": [
    "# 1 Используя список l1, создать список, в котором каждый элемент списка l1 будет заменен \n",
    "# значением длины строки соответствующего элемента в списке l1.\n",
    "# Использовать генераторы, решить задачу в одну строку.\n",
    "l1 = ['1', '123', '123', '12', '1', '123']\n",
    "l2 = [len(el) for el in l1]\n",
    "l2"
   ]
  },
  {
   "cell_type": "code",
   "execution_count": 53,
   "id": "5a8906ee",
   "metadata": {},
   "outputs": [
    {
     "data": {
      "text/plain": [
       "3"
      ]
     },
     "execution_count": 53,
     "metadata": {},
     "output_type": "execute_result"
    }
   ],
   "source": [
    "# 2 Подсчитать количество строк в списке l1, длина которых больше 2х. Использовать \n",
    "# генераторы, решить задачу в одну строку.\n",
    "l1 = ['1', '123', '123', '12', '1', '123']\n",
    "l2 = [el for el in l1 if len(el) > 2]\n",
    "len(l2)"
   ]
  },
  {
   "cell_type": "code",
   "execution_count": 54,
   "id": "590daf33",
   "metadata": {},
   "outputs": [
    {
     "data": {
      "text/plain": [
       "[2, 8, -6, -12, 0, 66, 21, -8]"
      ]
     },
     "execution_count": 54,
     "metadata": {},
     "output_type": "execute_result"
    }
   ],
   "source": [
    "# 3 Создать список, в котором все числа списка l2 умножены на их номер в списке.\n",
    "# Использовать генераторы, решить задачу в одну строку.\n",
    "l2 = [2, 4, -2, -3, 0 , 11 , 3, -1]\n",
    "ans = [(ind + 1) * el for ind, el in enumerate(l2)]\n",
    "ans"
   ]
  },
  {
   "cell_type": "code",
   "execution_count": 55,
   "id": "4085c663",
   "metadata": {},
   "outputs": [
    {
     "data": {
      "text/plain": [
       "[2, 4, 0, 11, 3]"
      ]
     },
     "execution_count": 55,
     "metadata": {},
     "output_type": "execute_result"
    }
   ],
   "source": [
    "# 4 Создать список, в котором все отрицательные числа списка l2 исключены, остальные \n",
    "# элементы сохранены на своих местах. Использовать генераторы, решить задачу\n",
    "# в одну строку.\n",
    "l2 = [2, 4, -2, -3, 0 , 11 , 3, -1]\n",
    "ans = [el for el in l2 if el > -1]\n",
    "ans"
   ]
  },
  {
   "cell_type": "code",
   "execution_count": 56,
   "id": "d04ef2f1",
   "metadata": {},
   "outputs": [
    {
     "data": {
      "text/plain": [
       "[2, 4, 3, 4, 0, 11, 3, 8]"
      ]
     },
     "execution_count": 56,
     "metadata": {},
     "output_type": "execute_result"
    }
   ],
   "source": [
    "# 5 Создать список, в котором все отрицательные числа списка l2 заменены на их номер в\n",
    "# списке, остальные элементы сохранены на своих местах. Использовать генераторы и \n",
    "# тернарный оператор, решить задачу в одну строку.\n",
    "l2 = [2, 4, -2, -3, 0 , 11 , 3, -1]\n",
    "m = [ind + 1 if el < 0 else el for ind, el in enumerate(l2)]\n",
    "m"
   ]
  },
  {
   "cell_type": "code",
   "execution_count": null,
   "id": "a69d5612",
   "metadata": {},
   "outputs": [],
   "source": [
    "# 6 На основе переданной строки (не содержащей повторяющихся символов) создать словарь, \n",
    "# в котором каждому символу строки будет соответствовать номер символа в строке. \n",
    "# Использовать генераторы, решить задачу в одну строку. Пример: строка 'abcdef',\n",
    "# словарь {'a': 1, 'b': 2, 'c': 3, 'd': 4}\n",
    "inp = input()\n",
    "ans = dict([(el, ind + 1) for ind, el in enumerate(inp)])\n",
    "ans"
   ]
  },
  {
   "cell_type": "code",
   "execution_count": 48,
   "id": "511c556b-5ffc-49bd-a99f-2e02bbac4ad4",
   "metadata": {},
   "outputs": [
    {
     "name": "stdout",
     "output_type": "stream",
     "text": [
      "2\n"
     ]
    }
   ],
   "source": [
    "# 7 Определить, сколько элементов заданного списка содержится в словаре. Использовать\n",
    "# генераторы, решить задачу в одну строку. Пример: определить сколько элементов списка l1 \n",
    "# содержится в словаре d1. (ответ: 2)\n",
    "elements = len([x for x in ['1', '123', '123', '12', '1', '123'] if int(x) in {1: 10, 2: 20, 3: 30, 4: 40, 5: 50, 6: 60}])\n",
    "print(elements)"
   ]
  },
  {
   "cell_type": "code",
   "execution_count": 47,
   "id": "f3ea9d3e-7771-4a04-89d6-544f48f25e84",
   "metadata": {},
   "outputs": [
    {
     "name": "stdout",
     "output_type": "stream",
     "text": [
      "Counter({'e': 3, 'v': 1, 'g': 1, 'n': 1, '_': 1, 'o': 1})\n"
     ]
    }
   ],
   "source": [
    "# 8 Для строки evgene_o создать словарь, где для всех символов, встречающихся в строке, \n",
    "# хранится число: сколько раз символ встретился в строке evgene_o. Использовать генераторы,\n",
    "# решить задачу в одну строку\n",
    "from collections import Counter\n",
    "str1 = \"evgene_o\"\n",
    "char_count = Counter(str1)\n",
    "print(char_count)"
   ]
  },
  {
   "cell_type": "code",
   "execution_count": 36,
   "id": "cf69cfd8-05e3-4044-b6f9-0f985a43f2d9",
   "metadata": {},
   "outputs": [
    {
     "name": "stdout",
     "output_type": "stream",
     "text": [
      "8\n"
     ]
    }
   ],
   "source": [
    "# 9 Используя словарь, полученный в предыдущей задаче, подсчитать количество строчных \n",
    "# букв в строке evgene_o. Использовать генераторы, решить задачу в одну строку.\n",
    "str1 = \"evgene_o\"\n",
    "x = len(str1.lower())\n",
    "print(x)"
   ]
  },
  {
   "cell_type": "code",
   "execution_count": 46,
   "id": "b74a6027-1253-42b2-881b-6c6dcc7b85c3",
   "metadata": {},
   "outputs": [
    {
     "name": "stdout",
     "output_type": "stream",
     "text": [
      "910\n"
     ]
    }
   ],
   "source": [
    "# 10 Метод items() возвращает пары ключ-значение словаря в формате объектов кортежей.\n",
    "# Использовать генераторы, решить задачу в одну строку.\n",
    "# Метод items() возвращает пары ключ-значение словаря в формате объектов кортежей.\n",
    "dict = {1: 10, 2: 20, 3: 30, 4: 40, 5: 50, 6: 60}\n",
    "answer = sum(key * value for key, value in dict.items())\n",
    "print(answer)"
   ]
  },
  {
   "cell_type": "code",
   "execution_count": 45,
   "id": "7f47442c-d9e4-4743-b4bc-f3873e5648d4",
   "metadata": {},
   "outputs": [
    {
     "name": "stdout",
     "output_type": "stream",
     "text": [
      "{'h': 23, 'i': 24, 'j': 25, 'k': 26, 'l': 27}\n"
     ]
    }
   ],
   "source": [
    "# 11 На базе словаря d6 создать словарь d7, в котором нет пар ключ-значение с ключами,\n",
    "# встречающимися в словаре d5. Использовать генераторы, решить задачу в одну строку.\n",
    "d6 = {'e': 20, 'f': 21, 'g': 22, 'h': 23, 'i': 24, 'j': 25, 'k': 26, 'l': 27}\n",
    "d5 = {'a': 3, 'b': 4, 'c': 5, 'd': 6, 'e': 7, 'f': 8, 'g': 9}\n",
    "d7 = {key: value for key, value in d6.items() if key not in d5}\n",
    "print(d7)"
   ]
  }
 ],
 "metadata": {
  "kernelspec": {
   "display_name": "Python 3 (ipykernel)",
   "language": "python",
   "name": "python3"
  },
  "language_info": {
   "codemirror_mode": {
    "name": "ipython",
    "version": 3
   },
   "file_extension": ".py",
   "mimetype": "text/x-python",
   "name": "python",
   "nbconvert_exporter": "python",
   "pygments_lexer": "ipython3",
   "version": "3.11.5"
  }
 },
 "nbformat": 4,
 "nbformat_minor": 5
}
